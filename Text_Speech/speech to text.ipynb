{
 "cells": [
  {
   "cell_type": "code",
   "execution_count": 13,
   "id": "2adca95c-8b3e-46f3-8d37-ad1ed049ea05",
   "metadata": {},
   "outputs": [
    {
     "name": "stdout",
     "output_type": "stream",
     "text": [
      "In the dark corner of the room I divert my gates to the old radio glowing I'm memory etched Listen to the ticking of the time machine drifting towards the 80s era in a night immersed in nostalgia Old radio, convey your beautiful songs Taking me flying far away in the tunes of the eighties eternal of stories engraved in rhythm In a heart that sweet memories embedded in every lyric heard as if time stopped in the melody behind the dust and decay you still shine Old faithful radio, silent witness of the past Old radio, convey your beautiful songs Taking me flying far away in the tunes of the 80s Eternal love stories engraved in rhythm In a heart that always yearns Even as time changes, memories will not fade in the depths of this heart you remain eternal Old radio always convey the songs of the 80s to the future generation Even as time changes, memories will not fade in the depths of his heart you remain eternal Old radio always convey the songs of the 80s to the future generation in the midst of silent night, old radio continues to sing Accompanying quiet steps towards a new dawn Keep shining, old radio and a heart that always yearns.\n"
     ]
    }
   ],
   "source": [
    "# Start by making sure the `assemblyai` package is installed.\n",
    "# If not, you can install it by running the following command:\n",
    "# pip install -U assemblyai\n",
    "#\n",
    "# Note: Some macOS users may need to use `pip3` instead of `pip`.\n",
    "\n",
    "import assemblyai as aai\n",
    "\n",
    "# Replace with your API key\n",
    "aai.settings.api_key = \"Enter_Your
-API6\"\n",
    "\n",
    "# URL of the file to transcribe\n",
    "FILE_URL = \"old-radio-227880.mp3\"\n",
    "\n",
    "# You can also transcribe a local file by passing in a file path\n",
    "# FILE_URL = './path/to/file.mp3'\n",
    "\n",
    "transcriber = aai.Transcriber()\n",
    "transcript = transcriber.transcribe(FILE_URL)\n",
    "\n",
    "if transcript.status == aai.TranscriptStatus.error:\n",
    "    print(transcript.error)\n",
    "else:\n",
    "    print(transcript.text)\n"
   ]
  },
  {
   "cell_type": "code",
   "execution_count": null,
   "id": "a64805cd-d24e-441b-af69-82a46b1d5582",
   "metadata": {},
   "outputs": [],
   "source": []
  }
 ],
 "metadata": {
  "kernelspec": {
   "display_name": "Python [conda env:base] *",
   "language": "python",
   "name": "conda-base-py"
  },
  "language_info": {
   "codemirror_mode": {
    "name": "ipython",
    "version": 3
   },
   "file_extension": ".py",
   "mimetype": "text/x-python",
   "name": "python",
   "nbconvert_exporter": "python",
   "pygments_lexer": "ipython3",
   "version": "3.12.7"
  }
 },
 "nbformat": 4,
 "nbformat_minor": 5
}
